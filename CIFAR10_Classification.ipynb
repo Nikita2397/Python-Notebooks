{
  "nbformat": 4,
  "nbformat_minor": 0,
  "metadata": {
    "accelerator": "GPU",
    "colab": {
      "name": "CIFAR10 Classification.ipynb",
      "provenance": [],
      "authorship_tag": "ABX9TyMMJcNFkijuwTZ+e0ZB4MJu",
      "include_colab_link": true
    },
    "kernelspec": {
      "display_name": "Python 3",
      "name": "python3"
    },
    "language_info": {
      "name": "python"
    }
  },
  "cells": [
    {
      "cell_type": "markdown",
      "metadata": {
        "id": "view-in-github",
        "colab_type": "text"
      },
      "source": [
        "<a href=\"https://colab.research.google.com/github/Nikita2397/Python-Notebooks/blob/main/CIFAR10_Classification.ipynb\" target=\"_parent\"><img src=\"https://colab.research.google.com/assets/colab-badge.svg\" alt=\"Open In Colab\"/></a>"
      ]
    },
    {
      "cell_type": "markdown",
      "metadata": {
        "id": "oh5woiaaXGlj"
      },
      "source": [
        "# CIFAR10 Classification"
      ]
    },
    {
      "cell_type": "markdown",
      "metadata": {
        "id": "UukEj0JxXK8Q"
      },
      "source": [
        "###### @author - Nikita Arora\n",
        "###### @email - nikitarora.21@gmail.com\n",
        "###### @date 1st August 2021"
      ]
    },
    {
      "cell_type": "markdown",
      "metadata": {
        "id": "VhwIIkAaXanV"
      },
      "source": [
        "## Importing necessary libraries"
      ]
    },
    {
      "cell_type": "code",
      "metadata": {
        "id": "GTnexm-DaDPD"
      },
      "source": [
        "import tensorflow as tf\n",
        "from tensorflow.keras import datasets, layers, models\n",
        "import matplotlib.pyplot as plt\n",
        "import numpy as np\n",
        "from sklearn.linear_model import LogisticRegression\n",
        "from sklearn.metrics import confusion_matrix , classification_report\n",
        "import numpy as np"
      ],
      "execution_count": 1,
      "outputs": []
    },
    {
      "cell_type": "markdown",
      "metadata": {
        "id": "uTgmgxCTXf8E"
      },
      "source": [
        "###### Splitting data into train and test set"
      ]
    },
    {
      "cell_type": "code",
      "metadata": {
        "id": "TngqK4UyaFXn"
      },
      "source": [
        "(X_train, y_train),(X_test, y_test) = datasets.cifar10.load_data()"
      ],
      "execution_count": 2,
      "outputs": []
    },
    {
      "cell_type": "markdown",
      "metadata": {
        "id": "Fx62DukLXp2L"
      },
      "source": [
        "## Data Exploration"
      ]
    },
    {
      "cell_type": "code",
      "metadata": {
        "colab": {
          "base_uri": "https://localhost:8080/"
        },
        "id": "jGqM8splayTc",
        "outputId": "3bd2c92c-4067-44c2-806e-26453f3ffd3f"
      },
      "source": [
        "X_train.shape"
      ],
      "execution_count": 3,
      "outputs": [
        {
          "output_type": "execute_result",
          "data": {
            "text/plain": [
              "(50000, 32, 32, 3)"
            ]
          },
          "metadata": {
            "tags": []
          },
          "execution_count": 3
        }
      ]
    },
    {
      "cell_type": "code",
      "metadata": {
        "colab": {
          "base_uri": "https://localhost:8080/"
        },
        "id": "e-4FSdRGbKfI",
        "outputId": "ed43cb33-7b58-4b98-e52a-f37f09e2a956"
      },
      "source": [
        "X_test.shape"
      ],
      "execution_count": 4,
      "outputs": [
        {
          "output_type": "execute_result",
          "data": {
            "text/plain": [
              "(10000, 32, 32, 3)"
            ]
          },
          "metadata": {
            "tags": []
          },
          "execution_count": 4
        }
      ]
    },
    {
      "cell_type": "code",
      "metadata": {
        "colab": {
          "base_uri": "https://localhost:8080/"
        },
        "id": "kQ8MtVuucEsc",
        "outputId": "0f9c9c52-771a-48af-cc3d-39e39fe33a5c"
      },
      "source": [
        "y_train.shape"
      ],
      "execution_count": 5,
      "outputs": [
        {
          "output_type": "execute_result",
          "data": {
            "text/plain": [
              "(50000, 1)"
            ]
          },
          "metadata": {
            "tags": []
          },
          "execution_count": 5
        }
      ]
    },
    {
      "cell_type": "code",
      "metadata": {
        "colab": {
          "base_uri": "https://localhost:8080/"
        },
        "id": "KZ8Nzi4ucMfE",
        "outputId": "68496de1-5099-4202-8e1f-e3f702b41d39"
      },
      "source": [
        "y_train[:5]\n"
      ],
      "execution_count": 6,
      "outputs": [
        {
          "output_type": "execute_result",
          "data": {
            "text/plain": [
              "array([[6],\n",
              "       [9],\n",
              "       [9],\n",
              "       [4],\n",
              "       [1]], dtype=uint8)"
            ]
          },
          "metadata": {
            "tags": []
          },
          "execution_count": 6
        }
      ]
    },
    {
      "cell_type": "code",
      "metadata": {
        "colab": {
          "base_uri": "https://localhost:8080/"
        },
        "id": "8WitYih7cbiB",
        "outputId": "62afe202-26bd-4683-95a8-56fc73a068b9"
      },
      "source": [
        "y_train = y_train.reshape(-1,)\n",
        "y_train[:5]"
      ],
      "execution_count": 7,
      "outputs": [
        {
          "output_type": "execute_result",
          "data": {
            "text/plain": [
              "array([6, 9, 9, 4, 1], dtype=uint8)"
            ]
          },
          "metadata": {
            "tags": []
          },
          "execution_count": 7
        }
      ]
    },
    {
      "cell_type": "code",
      "metadata": {
        "id": "Sp_ySGSLcgIA"
      },
      "source": [
        "y_test = y_test.reshape(-1,)"
      ],
      "execution_count": 8,
      "outputs": []
    },
    {
      "cell_type": "code",
      "metadata": {
        "id": "yFTB1OpBclOD"
      },
      "source": [
        "classes = [\"airplane\",\"automobile\",\"bird\",\"cat\",\"deer\",\"dog\",\"frog\",\"horse\",\"ship\",\"truck\"]"
      ],
      "execution_count": 9,
      "outputs": []
    },
    {
      "cell_type": "markdown",
      "metadata": {
        "id": "zH30O4CbXu_C"
      },
      "source": [
        "###### Plotting the images"
      ]
    },
    {
      "cell_type": "code",
      "metadata": {
        "id": "zvridmfKbTls"
      },
      "source": [
        "def plot_sample(X, y, index):\n",
        "    plt.imshow(X[index])\n",
        "    plt.xlabel(classes[y[index]])"
      ],
      "execution_count": 10,
      "outputs": []
    },
    {
      "cell_type": "code",
      "metadata": {
        "colab": {
          "base_uri": "https://localhost:8080/",
          "height": 280
        },
        "id": "XpyUoyyEblu_",
        "outputId": "3c76fe1f-2707-4540-e357-634afa80b1d1"
      },
      "source": [
        "plot_sample(X_train, y_train, 0)\n"
      ],
      "execution_count": 11,
      "outputs": [
        {
          "output_type": "display_data",
          "data": {
            "image/png": "[encoded data removed]",
            "text/plain": [
              "<Figure size 432x288 with 1 Axes>"
            ]
          },
          "metadata": {
            "tags": [],
            "needs_background": "light"
          }
        }
      ]
    },
    {
      "cell_type": "code",
      "metadata": {
        "colab": {
          "base_uri": "https://localhost:8080/",
          "height": 280
        },
        "id": "Ivbl9WC5cxeu",
        "outputId": "efdf9da0-944b-431b-d287-64aeb82cd68f"
      },
      "source": [
        "plot_sample(X_train, y_train, 1)\n"
      ],
      "execution_count": 12,
      "outputs": [
        {
          "output_type": "display_data",
          "data": {
            "image/png": "[encoded data removed]",
            "text/plain": [
              "<Figure size 432x288 with 1 Axes>"
            ]
          },
          "metadata": {
            "tags": [],
            "needs_background": "light"
          }
        }
      ]
    },
    {
      "cell_type": "markdown",
      "metadata": {
        "id": "AdnT_ozLX1EJ"
      },
      "source": [
        "###### Normalizing Data"
      ]
    },
    {
      "cell_type": "code",
      "metadata": {
        "id": "UUz_XyfQeYHr"
      },
      "source": [
        "\n",
        "X_train = X_train / 255.0\n",
        "X_test = X_test / 255.0"
      ],
      "execution_count": 13,
      "outputs": []
    },
    {
      "cell_type": "markdown",
      "metadata": {
        "id": "IUdxFOCyX3ql"
      },
      "source": [
        "## Network A\n",
        "###### The first neural network will be the simplest, in that it has no hidden layers. It should take the image and flatten it to a vector for the input, and then have 10 outputs, one for each class.\n",
        "###### There should be no non-linearities for this network and is just a very simple linear classifier."
      ]
    },
    {
      "cell_type": "code",
      "metadata": {
        "colab": {
          "base_uri": "https://localhost:8080/"
        },
        "id": "M2oAecFuvBmI",
        "outputId": "a93dc924-f547-41b2-d034-77e13b33de8c"
      },
      "source": [
        "net_a = models.Sequential([\n",
        "  layers.Flatten(input_shape=(32,32,3)),\n",
        "  layers.Dense(10, activation='sigmoid')\n",
        "])\n",
        "\n",
        "net_a.compile(optimizer='SGD',\n",
        "            loss='sparse_categorical_crossentropy',\n",
        "            metrics=[ 'accuracy'])\n",
        "\n",
        "history_a = net_a.fit(X_train, y_train,epochs=50)"
      ],
      "execution_count": 14,
      "outputs": [
        {
          "output_type": "stream",
          "text": [
            "Epoch 1/50\n",
            "1563/1563 [==============================] - 5s 3ms/step - loss: 1.9461 - accuracy: 0.3041\n",
            "Epoch 2/50\n",
            "1563/1563 [==============================] - 4s 3ms/step - loss: 1.8459 - accuracy: 0.3503\n",
            "Epoch 3/50\n",
            "1563/1563 [==============================] - 4s 2ms/step - loss: 1.8155 - accuracy: 0.3625\n",
            "Epoch 4/50\n",
            "1563/1563 [==============================] - 4s 3ms/step - loss: 1.7966 - accuracy: 0.3732\n",
            "Epoch 5/50\n",
            "1563/1563 [==============================] - 4s 3ms/step - loss: 1.7842 - accuracy: 0.3753\n",
            "Epoch 6/50\n",
            "1563/1563 [==============================] - 4s 3ms/step - loss: 1.7723 - accuracy: 0.3817\n",
            "Epoch 7/50\n",
            "1563/1563 [==============================] - 4s 3ms/step - loss: 1.7663 - accuracy: 0.3854\n",
            "Epoch 8/50\n",
            "1563/1563 [==============================] - 4s 3ms/step - loss: 1.7597 - accuracy: 0.3865\n",
            "Epoch 9/50\n",
            "1563/1563 [==============================] - 4s 3ms/step - loss: 1.7510 - accuracy: 0.3933\n",
            "Epoch 10/50\n",
            "1563/1563 [==============================] - 4s 2ms/step - loss: 1.7453 - accuracy: 0.3950\n",
            "Epoch 11/50\n",
            "1563/1563 [==============================] - 4s 2ms/step - loss: 1.7449 - accuracy: 0.3931\n",
            "Epoch 12/50\n",
            "1563/1563 [==============================] - 4s 3ms/step - loss: 1.7385 - accuracy: 0.3974\n",
            "Epoch 13/50\n",
            "1563/1563 [==============================] - 4s 3ms/step - loss: 1.7321 - accuracy: 0.3998\n",
            "Epoch 14/50\n",
            "1563/1563 [==============================] - 4s 3ms/step - loss: 1.7314 - accuracy: 0.3998\n",
            "Epoch 15/50\n",
            "1563/1563 [==============================] - 4s 3ms/step - loss: 1.7300 - accuracy: 0.4024\n",
            "Epoch 16/50\n",
            "1563/1563 [==============================] - 4s 3ms/step - loss: 1.7257 - accuracy: 0.4059\n",
            "Epoch 17/50\n",
            "1563/1563 [==============================] - 4s 3ms/step - loss: 1.7245 - accuracy: 0.4039\n",
            "Epoch 18/50\n",
            "1563/1563 [==============================] - 4s 3ms/step - loss: 1.7195 - accuracy: 0.4058\n",
            "Epoch 19/50\n",
            "1563/1563 [==============================] - 4s 3ms/step - loss: 1.7167 - accuracy: 0.4062\n",
            "Epoch 20/50\n",
            "1563/1563 [==============================] - 4s 3ms/step - loss: 1.7177 - accuracy: 0.4074\n",
            "Epoch 21/50\n",
            "1563/1563 [==============================] - 4s 3ms/step - loss: 1.7171 - accuracy: 0.4075\n",
            "Epoch 22/50\n",
            "1563/1563 [==============================] - 4s 3ms/step - loss: 1.7124 - accuracy: 0.4073\n",
            "Epoch 23/50\n",
            "1563/1563 [==============================] - 4s 3ms/step - loss: 1.7092 - accuracy: 0.4106\n",
            "Epoch 24/50\n",
            "1563/1563 [==============================] - 4s 3ms/step - loss: 1.7066 - accuracy: 0.4111\n",
            "Epoch 25/50\n",
            "1563/1563 [==============================] - 4s 3ms/step - loss: 1.7075 - accuracy: 0.4101\n",
            "Epoch 26/50\n",
            "1563/1563 [==============================] - 4s 3ms/step - loss: 1.7056 - accuracy: 0.4138\n",
            "Epoch 27/50\n",
            "1563/1563 [==============================] - 4s 3ms/step - loss: 1.7057 - accuracy: 0.4113\n",
            "Epoch 28/50\n",
            "1563/1563 [==============================] - 4s 3ms/step - loss: 1.7029 - accuracy: 0.4132\n",
            "Epoch 29/50\n",
            "1563/1563 [==============================] - 4s 3ms/step - loss: 1.7020 - accuracy: 0.4176\n",
            "Epoch 30/50\n",
            "1563/1563 [==============================] - 4s 3ms/step - loss: 1.7003 - accuracy: 0.4139\n",
            "Epoch 31/50\n",
            "1563/1563 [==============================] - 4s 3ms/step - loss: 1.6970 - accuracy: 0.4165\n",
            "Epoch 32/50\n",
            "1563/1563 [==============================] - 4s 3ms/step - loss: 1.6993 - accuracy: 0.4147\n",
            "Epoch 33/50\n",
            "1563/1563 [==============================] - 4s 2ms/step - loss: 1.6970 - accuracy: 0.4149\n",
            "Epoch 34/50\n",
            "1563/1563 [==============================] - 4s 3ms/step - loss: 1.6958 - accuracy: 0.4166\n",
            "Epoch 35/50\n",
            "1563/1563 [==============================] - 4s 2ms/step - loss: 1.6969 - accuracy: 0.4149\n",
            "Epoch 36/50\n",
            "1563/1563 [==============================] - 4s 2ms/step - loss: 1.6934 - accuracy: 0.4151\n",
            "Epoch 37/50\n",
            "1563/1563 [==============================] - 4s 2ms/step - loss: 1.6924 - accuracy: 0.4163\n",
            "Epoch 38/50\n",
            "1563/1563 [==============================] - 4s 3ms/step - loss: 1.6928 - accuracy: 0.4175\n",
            "Epoch 39/50\n",
            "1563/1563 [==============================] - 4s 3ms/step - loss: 1.6898 - accuracy: 0.4172\n",
            "Epoch 40/50\n",
            "1563/1563 [==============================] - 4s 3ms/step - loss: 1.6893 - accuracy: 0.4191\n",
            "Epoch 41/50\n",
            "1563/1563 [==============================] - 4s 3ms/step - loss: 1.6900 - accuracy: 0.4182\n",
            "Epoch 42/50\n",
            "1563/1563 [==============================] - 4s 3ms/step - loss: 1.6888 - accuracy: 0.4175\n",
            "Epoch 43/50\n",
            "1563/1563 [==============================] - 4s 3ms/step - loss: 1.6862 - accuracy: 0.4196\n",
            "Epoch 44/50\n",
            "1563/1563 [==============================] - 4s 3ms/step - loss: 1.6879 - accuracy: 0.4178\n",
            "Epoch 45/50\n",
            "1563/1563 [==============================] - 4s 2ms/step - loss: 1.6849 - accuracy: 0.4198\n",
            "Epoch 46/50\n",
            "1563/1563 [==============================] - 4s 2ms/step - loss: 1.6845 - accuracy: 0.4227\n",
            "Epoch 47/50\n",
            "1563/1563 [==============================] - 4s 3ms/step - loss: 1.6834 - accuracy: 0.4229\n",
            "Epoch 48/50\n",
            "1563/1563 [==============================] - 4s 3ms/step - loss: 1.6849 - accuracy: 0.4185\n",
            "Epoch 49/50\n",
            "1563/1563 [==============================] - 4s 3ms/step - loss: 1.6796 - accuracy: 0.4230\n",
            "Epoch 50/50\n",
            "1563/1563 [==============================] - 4s 3ms/step - loss: 1.6838 - accuracy: 0.4205\n"
          ],
          "name": "stdout"
        }
      ]
    },
    {
      "cell_type": "code",
      "metadata": {
        "colab": {
          "base_uri": "https://localhost:8080/"
        },
        "id": "cqKV7GVZYZ02",
        "outputId": "1e588bfa-9c16-4fd0-d29e-0859f2150d7b"
      },
      "source": [
        "y_pred = net_a.predict(X_test)\n",
        "y_pred_classes = [np.argmax(element) for element in y_pred]\n",
        "\n",
        "print(\"Classification Report: \\n\", classification_report(y_test, y_pred_classes))"
      ],
      "execution_count": 15,
      "outputs": [
        {
          "output_type": "stream",
          "text": [
            "Classification Report: \n",
            "               precision    recall  f1-score   support\n",
            "\n",
            "           0       0.52      0.37      0.43      1000\n",
            "           1       0.61      0.34      0.44      1000\n",
            "           2       0.40      0.05      0.09      1000\n",
            "           3       0.27      0.19      0.22      1000\n",
            "           4       0.38      0.22      0.28      1000\n",
            "           5       0.27      0.43      0.34      1000\n",
            "           6       0.38      0.52      0.44      1000\n",
            "           7       0.29      0.62      0.40      1000\n",
            "           8       0.58      0.40      0.47      1000\n",
            "           9       0.38      0.59      0.46      1000\n",
            "\n",
            "    accuracy                           0.37     10000\n",
            "   macro avg       0.41      0.37      0.36     10000\n",
            "weighted avg       0.41      0.37      0.36     10000\n",
            "\n"
          ],
          "name": "stdout"
        }
      ]
    },
    {
      "cell_type": "markdown",
      "metadata": {
        "id": "51IFZYAlYtvD"
      },
      "source": [
        "## Network B\n",
        "###### The second neural network will be slightly more complicated in that it has a hidden layer with 300 nodes and adds a non-linearity between the layers. It should use the following operations in this order:\n",
        "<li> Flatten the image to a vector for the input\n",
        "<li> Use a fully-connected linear layer with 300 hidden-neurons\n",
        "<li> Use the ReLU activation function\n",
        "<li> Use a fully-connected linear layer to the 10 outputs.\n"
      ]
    },
    {
      "cell_type": "code",
      "metadata": {
        "colab": {
          "base_uri": "https://localhost:8080/"
        },
        "id": "FiJaAxPkemI0",
        "outputId": "e353e96c-aa6e-401f-c51f-2d4f6b309593"
      },
      "source": [
        "net_b = models.Sequential([\n",
        "  layers.Flatten(input_shape=(32,32,3)),\n",
        "  layers.Dense(300, activation='relu'),\n",
        "  layers.Dense(10, activation='sigmoid')\n",
        "])\n",
        "\n",
        "net_b.compile(optimizer='SGD',\n",
        "            loss='sparse_categorical_crossentropy',\n",
        "            metrics=[ 'accuracy'])\n",
        "\n",
        "history_b = net_b.fit(X_train, y_train,epochs=50)"
      ],
      "execution_count": 16,
      "outputs": [
        {
          "output_type": "stream",
          "text": [
            "Epoch 1/50\n",
            "1563/1563 [==============================] - 5s 3ms/step - loss: 1.8770 - accuracy: 0.3293\n",
            "Epoch 2/50\n",
            "1563/1563 [==============================] - 4s 3ms/step - loss: 1.6955 - accuracy: 0.4036\n",
            "Epoch 3/50\n",
            "1563/1563 [==============================] - 4s 3ms/step - loss: 1.6206 - accuracy: 0.4288\n",
            "Epoch 4/50\n",
            "1563/1563 [==============================] - 4s 3ms/step - loss: 1.5686 - accuracy: 0.4488\n",
            "Epoch 5/50\n",
            "1563/1563 [==============================] - 4s 3ms/step - loss: 1.5260 - accuracy: 0.4642\n",
            "Epoch 6/50\n",
            "1563/1563 [==============================] - 4s 3ms/step - loss: 1.4933 - accuracy: 0.4758\n",
            "Epoch 7/50\n",
            "1563/1563 [==============================] - 4s 3ms/step - loss: 1.4646 - accuracy: 0.4851\n",
            "Epoch 8/50\n",
            "1563/1563 [==============================] - 4s 3ms/step - loss: 1.4365 - accuracy: 0.4956\n",
            "Epoch 9/50\n",
            "1563/1563 [==============================] - 4s 3ms/step - loss: 1.4117 - accuracy: 0.5041\n",
            "Epoch 10/50\n",
            "1563/1563 [==============================] - 4s 3ms/step - loss: 1.3918 - accuracy: 0.5131\n",
            "Epoch 11/50\n",
            "1563/1563 [==============================] - 4s 3ms/step - loss: 1.3716 - accuracy: 0.5194\n",
            "Epoch 12/50\n",
            "1563/1563 [==============================] - 4s 3ms/step - loss: 1.3516 - accuracy: 0.5267\n",
            "Epoch 13/50\n",
            "1563/1563 [==============================] - 4s 3ms/step - loss: 1.3345 - accuracy: 0.5337\n",
            "Epoch 14/50\n",
            "1563/1563 [==============================] - 4s 3ms/step - loss: 1.3182 - accuracy: 0.5362\n",
            "Epoch 15/50\n",
            "1563/1563 [==============================] - 4s 3ms/step - loss: 1.3019 - accuracy: 0.5443\n",
            "Epoch 16/50\n",
            "1563/1563 [==============================] - 4s 3ms/step - loss: 1.2900 - accuracy: 0.5482\n",
            "Epoch 17/50\n",
            "1563/1563 [==============================] - 4s 3ms/step - loss: 1.2731 - accuracy: 0.5558\n",
            "Epoch 18/50\n",
            "1563/1563 [==============================] - 4s 3ms/step - loss: 1.2598 - accuracy: 0.5585\n",
            "Epoch 19/50\n",
            "1563/1563 [==============================] - 4s 3ms/step - loss: 1.2457 - accuracy: 0.5660\n",
            "Epoch 20/50\n",
            "1563/1563 [==============================] - 4s 3ms/step - loss: 1.2367 - accuracy: 0.5680\n",
            "Epoch 21/50\n",
            "1563/1563 [==============================] - 4s 3ms/step - loss: 1.2252 - accuracy: 0.5699\n",
            "Epoch 22/50\n",
            "1563/1563 [==============================] - 4s 3ms/step - loss: 1.2099 - accuracy: 0.5778\n",
            "Epoch 23/50\n",
            "1563/1563 [==============================] - 4s 3ms/step - loss: 1.1993 - accuracy: 0.5824\n",
            "Epoch 24/50\n",
            "1563/1563 [==============================] - 4s 3ms/step - loss: 1.1887 - accuracy: 0.5831\n",
            "Epoch 25/50\n",
            "1563/1563 [==============================] - 4s 3ms/step - loss: 1.1771 - accuracy: 0.5873\n",
            "Epoch 26/50\n",
            "1563/1563 [==============================] - 4s 3ms/step - loss: 1.1677 - accuracy: 0.5945\n",
            "Epoch 27/50\n",
            "1563/1563 [==============================] - 4s 3ms/step - loss: 1.1579 - accuracy: 0.5960\n",
            "Epoch 28/50\n",
            "1563/1563 [==============================] - 4s 3ms/step - loss: 1.1433 - accuracy: 0.5999\n",
            "Epoch 29/50\n",
            "1563/1563 [==============================] - 4s 3ms/step - loss: 1.1381 - accuracy: 0.6015\n",
            "Epoch 30/50\n",
            "1563/1563 [==============================] - 4s 3ms/step - loss: 1.1252 - accuracy: 0.6074\n",
            "Epoch 31/50\n",
            "1563/1563 [==============================] - 4s 3ms/step - loss: 1.1162 - accuracy: 0.6122\n",
            "Epoch 32/50\n",
            "1563/1563 [==============================] - 4s 3ms/step - loss: 1.1059 - accuracy: 0.6163\n",
            "Epoch 33/50\n",
            "1563/1563 [==============================] - 4s 3ms/step - loss: 1.0983 - accuracy: 0.6182\n",
            "Epoch 34/50\n",
            "1563/1563 [==============================] - 4s 3ms/step - loss: 1.0895 - accuracy: 0.6207\n",
            "Epoch 35/50\n",
            "1563/1563 [==============================] - 4s 3ms/step - loss: 1.0785 - accuracy: 0.6252\n",
            "Epoch 36/50\n",
            "1563/1563 [==============================] - 4s 3ms/step - loss: 1.0714 - accuracy: 0.6266\n",
            "Epoch 37/50\n",
            "1563/1563 [==============================] - 4s 3ms/step - loss: 1.0624 - accuracy: 0.6315\n",
            "Epoch 38/50\n",
            "1563/1563 [==============================] - 4s 3ms/step - loss: 1.0503 - accuracy: 0.6337\n",
            "Epoch 39/50\n",
            "1563/1563 [==============================] - 4s 3ms/step - loss: 1.0440 - accuracy: 0.6356\n",
            "Epoch 40/50\n",
            "1563/1563 [==============================] - 4s 3ms/step - loss: 1.0330 - accuracy: 0.6418\n",
            "Epoch 41/50\n",
            "1563/1563 [==============================] - 4s 3ms/step - loss: 1.0225 - accuracy: 0.6442\n",
            "Epoch 42/50\n",
            "1563/1563 [==============================] - 4s 3ms/step - loss: 1.0166 - accuracy: 0.6483\n",
            "Epoch 43/50\n",
            "1563/1563 [==============================] - 4s 3ms/step - loss: 1.0107 - accuracy: 0.6487\n",
            "Epoch 44/50\n",
            "1563/1563 [==============================] - 5s 3ms/step - loss: 1.0033 - accuracy: 0.6490\n",
            "Epoch 45/50\n",
            "1563/1563 [==============================] - 5s 3ms/step - loss: 0.9908 - accuracy: 0.6558\n",
            "Epoch 46/50\n",
            "1563/1563 [==============================] - 4s 3ms/step - loss: 0.9832 - accuracy: 0.6577\n",
            "Epoch 47/50\n",
            "1563/1563 [==============================] - 4s 3ms/step - loss: 0.9775 - accuracy: 0.6594\n",
            "Epoch 48/50\n",
            "1563/1563 [==============================] - 4s 3ms/step - loss: 0.9658 - accuracy: 0.6624\n",
            "Epoch 49/50\n",
            "1563/1563 [==============================] - 4s 3ms/step - loss: 0.9611 - accuracy: 0.6685\n",
            "Epoch 50/50\n",
            "1563/1563 [==============================] - 4s 3ms/step - loss: 0.9527 - accuracy: 0.6669\n"
          ],
          "name": "stdout"
        }
      ]
    },
    {
      "cell_type": "code",
      "metadata": {
        "colab": {
          "base_uri": "https://localhost:8080/"
        },
        "id": "INhgySIJ2i3E",
        "outputId": "abd59262-56f3-450d-e88a-957941c92b58"
      },
      "source": [
        "y_pred = net_b.predict(X_test)\n",
        "y_pred_classes = [np.argmax(element) for element in y_pred]\n",
        "\n",
        "print(\"Classification Report: \\n\", classification_report(y_test, y_pred_classes))"
      ],
      "execution_count": 17,
      "outputs": [
        {
          "output_type": "stream",
          "text": [
            "Classification Report: \n",
            "               precision    recall  f1-score   support\n",
            "\n",
            "           0       0.61      0.58      0.60      1000\n",
            "           1       0.67      0.61      0.64      1000\n",
            "           2       0.33      0.60      0.42      1000\n",
            "           3       0.37      0.33      0.35      1000\n",
            "           4       0.68      0.17      0.27      1000\n",
            "           5       0.57      0.24      0.34      1000\n",
            "           6       0.47      0.75      0.57      1000\n",
            "           7       0.56      0.62      0.59      1000\n",
            "           8       0.62      0.69      0.65      1000\n",
            "           9       0.62      0.57      0.59      1000\n",
            "\n",
            "    accuracy                           0.52     10000\n",
            "   macro avg       0.55      0.52      0.50     10000\n",
            "weighted avg       0.55      0.52      0.50     10000\n",
            "\n"
          ],
          "name": "stdout"
        }
      ]
    },
    {
      "cell_type": "markdown",
      "metadata": {
        "id": "46CO6VBvZBw8"
      },
      "source": [
        "## Network C\n",
        "###### This third neural network will be a convolutional neural network. It should use the following operations in this order:\n",
        "\n",
        "<li>Use a convolution layer with kernel-width 5 and depth 25\n",
        "<li>Use the ReLU activation function\n",
        "<li>Use a max-pool operation with kernel-width 2 and stride 2\n",
        "<li>Flatten the image to a vector for the next step's input\n",
        "<li>Use a fully-connected linear layer to the 10 outputs.\n"
      ]
    },
    {
      "cell_type": "code",
      "metadata": {
        "id": "IPEqXpKPVyUg"
      },
      "source": [
        "net_c = models.Sequential([\n",
        "    layers.Conv2D(filters=25, kernel_size=(5, 5), activation='relu', input_shape=(32, 32, 3)),\n",
        "    layers.MaxPooling2D((2, 2)),\n",
        "    \n",
        "    layers.Conv2D(filters=25, kernel_size=(5, 5), activation='relu'),\n",
        "    layers.MaxPooling2D((2, 2)),\n",
        "    \n",
        "    layers.Flatten(),\n",
        "    layers.Dense(10, activation='softmax')\n",
        "])"
      ],
      "execution_count": 18,
      "outputs": []
    },
    {
      "cell_type": "code",
      "metadata": {
        "id": "osldxxqaV006"
      },
      "source": [
        "\n",
        "net_c.compile(optimizer='adam',\n",
        "              loss='sparse_categorical_crossentropy',\n",
        "              metrics=['accuracy'])"
      ],
      "execution_count": 19,
      "outputs": []
    },
    {
      "cell_type": "code",
      "metadata": {
        "colab": {
          "base_uri": "https://localhost:8080/"
        },
        "id": "coIeFg7kV28I",
        "outputId": "10d28301-b6ce-499b-9bb1-40e056a640d8"
      },
      "source": [
        "history_c = net_c.fit(X_train, y_train, epochs=50)\n"
      ],
      "execution_count": 20,
      "outputs": [
        {
          "output_type": "stream",
          "text": [
            "Epoch 1/50\n",
            "1563/1563 [==============================] - 9s 5ms/step - loss: 1.5876 - accuracy: 0.4261\n",
            "Epoch 2/50\n",
            "1563/1563 [==============================] - 7s 5ms/step - loss: 1.3045 - accuracy: 0.5384\n",
            "Epoch 3/50\n",
            "1563/1563 [==============================] - 7s 5ms/step - loss: 1.1891 - accuracy: 0.5815\n",
            "Epoch 4/50\n",
            "1563/1563 [==============================] - 7s 5ms/step - loss: 1.1077 - accuracy: 0.6121\n",
            "Epoch 5/50\n",
            "1563/1563 [==============================] - 7s 5ms/step - loss: 1.0471 - accuracy: 0.6349\n",
            "Epoch 6/50\n",
            "1563/1563 [==============================] - 7s 5ms/step - loss: 1.0035 - accuracy: 0.6513\n",
            "Epoch 7/50\n",
            "1563/1563 [==============================] - 7s 5ms/step - loss: 0.9695 - accuracy: 0.6610\n",
            "Epoch 8/50\n",
            "1563/1563 [==============================] - 7s 5ms/step - loss: 0.9401 - accuracy: 0.6725\n",
            "Epoch 9/50\n",
            "1563/1563 [==============================] - 7s 5ms/step - loss: 0.9187 - accuracy: 0.6838\n",
            "Epoch 10/50\n",
            "1563/1563 [==============================] - 7s 5ms/step - loss: 0.8960 - accuracy: 0.6899\n",
            "Epoch 11/50\n",
            "1563/1563 [==============================] - 7s 5ms/step - loss: 0.8805 - accuracy: 0.6950\n",
            "Epoch 12/50\n",
            "1563/1563 [==============================] - 7s 5ms/step - loss: 0.8597 - accuracy: 0.7018\n",
            "Epoch 13/50\n",
            "1563/1563 [==============================] - 7s 5ms/step - loss: 0.8455 - accuracy: 0.7057\n",
            "Epoch 14/50\n",
            "1563/1563 [==============================] - 7s 5ms/step - loss: 0.8361 - accuracy: 0.7092\n",
            "Epoch 15/50\n",
            "1563/1563 [==============================] - 7s 5ms/step - loss: 0.8216 - accuracy: 0.7130\n",
            "Epoch 16/50\n",
            "1563/1563 [==============================] - 7s 5ms/step - loss: 0.8101 - accuracy: 0.7204\n",
            "Epoch 17/50\n",
            "1563/1563 [==============================] - 7s 5ms/step - loss: 0.7986 - accuracy: 0.7225\n",
            "Epoch 18/50\n",
            "1563/1563 [==============================] - 7s 5ms/step - loss: 0.7912 - accuracy: 0.7263\n",
            "Epoch 19/50\n",
            "1563/1563 [==============================] - 7s 5ms/step - loss: 0.7897 - accuracy: 0.7251\n",
            "Epoch 20/50\n",
            "1563/1563 [==============================] - 7s 5ms/step - loss: 0.7795 - accuracy: 0.7293\n",
            "Epoch 21/50\n",
            "1563/1563 [==============================] - 7s 5ms/step - loss: 0.7672 - accuracy: 0.7342\n",
            "Epoch 22/50\n",
            "1563/1563 [==============================] - 7s 5ms/step - loss: 0.7609 - accuracy: 0.7356\n",
            "Epoch 23/50\n",
            "1563/1563 [==============================] - 7s 5ms/step - loss: 0.7552 - accuracy: 0.7342\n",
            "Epoch 24/50\n",
            "1563/1563 [==============================] - 7s 5ms/step - loss: 0.7491 - accuracy: 0.7385\n",
            "Epoch 25/50\n",
            "1563/1563 [==============================] - 7s 5ms/step - loss: 0.7435 - accuracy: 0.7399\n",
            "Epoch 26/50\n",
            "1563/1563 [==============================] - 7s 5ms/step - loss: 0.7367 - accuracy: 0.7415\n",
            "Epoch 27/50\n",
            "1563/1563 [==============================] - 7s 5ms/step - loss: 0.7313 - accuracy: 0.7451\n",
            "Epoch 28/50\n",
            "1563/1563 [==============================] - 7s 5ms/step - loss: 0.7276 - accuracy: 0.7461\n",
            "Epoch 29/50\n",
            "1563/1563 [==============================] - 7s 5ms/step - loss: 0.7235 - accuracy: 0.7471\n",
            "Epoch 30/50\n",
            "1563/1563 [==============================] - 7s 5ms/step - loss: 0.7192 - accuracy: 0.7496\n",
            "Epoch 31/50\n",
            "1563/1563 [==============================] - 7s 5ms/step - loss: 0.7163 - accuracy: 0.7514\n",
            "Epoch 32/50\n",
            "1563/1563 [==============================] - 7s 5ms/step - loss: 0.7070 - accuracy: 0.7529\n",
            "Epoch 33/50\n",
            "1563/1563 [==============================] - 7s 5ms/step - loss: 0.7082 - accuracy: 0.7542\n",
            "Epoch 34/50\n",
            "1563/1563 [==============================] - 7s 5ms/step - loss: 0.6973 - accuracy: 0.7576\n",
            "Epoch 35/50\n",
            "1563/1563 [==============================] - 7s 5ms/step - loss: 0.6922 - accuracy: 0.7588\n",
            "Epoch 36/50\n",
            "1563/1563 [==============================] - 7s 5ms/step - loss: 0.6864 - accuracy: 0.7586\n",
            "Epoch 37/50\n",
            "1563/1563 [==============================] - 7s 5ms/step - loss: 0.6831 - accuracy: 0.7626\n",
            "Epoch 38/50\n",
            "1563/1563 [==============================] - 7s 5ms/step - loss: 0.6801 - accuracy: 0.7624\n",
            "Epoch 39/50\n",
            "1563/1563 [==============================] - 7s 5ms/step - loss: 0.6712 - accuracy: 0.7656\n",
            "Epoch 40/50\n",
            "1563/1563 [==============================] - 7s 5ms/step - loss: 0.6729 - accuracy: 0.7640\n",
            "Epoch 41/50\n",
            "1563/1563 [==============================] - 7s 5ms/step - loss: 0.6688 - accuracy: 0.7649\n",
            "Epoch 42/50\n",
            "1563/1563 [==============================] - 7s 5ms/step - loss: 0.6629 - accuracy: 0.7673\n",
            "Epoch 43/50\n",
            "1563/1563 [==============================] - 7s 5ms/step - loss: 0.6628 - accuracy: 0.7686\n",
            "Epoch 44/50\n",
            "1563/1563 [==============================] - 7s 5ms/step - loss: 0.6560 - accuracy: 0.7706\n",
            "Epoch 45/50\n",
            "1563/1563 [==============================] - 7s 5ms/step - loss: 0.6526 - accuracy: 0.7708\n",
            "Epoch 46/50\n",
            "1563/1563 [==============================] - 7s 5ms/step - loss: 0.6493 - accuracy: 0.7718\n",
            "Epoch 47/50\n",
            "1563/1563 [==============================] - 7s 5ms/step - loss: 0.6472 - accuracy: 0.7723\n",
            "Epoch 48/50\n",
            "1563/1563 [==============================] - 7s 5ms/step - loss: 0.6407 - accuracy: 0.7739\n",
            "Epoch 49/50\n",
            "1563/1563 [==============================] - 7s 5ms/step - loss: 0.6438 - accuracy: 0.7744\n",
            "Epoch 50/50\n",
            "1563/1563 [==============================] - 7s 5ms/step - loss: 0.6393 - accuracy: 0.7735\n"
          ],
          "name": "stdout"
        }
      ]
    },
    {
      "cell_type": "code",
      "metadata": {
        "colab": {
          "base_uri": "https://localhost:8080/"
        },
        "id": "D7TZwDwZV5MR",
        "outputId": "008ce737-a163-48f4-eb0d-4ed24129332b"
      },
      "source": [
        "net_c.evaluate(X_test,y_test)"
      ],
      "execution_count": 21,
      "outputs": [
        {
          "output_type": "stream",
          "text": [
            "313/313 [==============================] - 1s 3ms/step - loss: 1.0422 - accuracy: 0.6743\n"
          ],
          "name": "stdout"
        },
        {
          "output_type": "execute_result",
          "data": {
            "text/plain": [
              "[1.042162537574768, 0.6743000149726868]"
            ]
          },
          "metadata": {
            "tags": []
          },
          "execution_count": 21
        }
      ]
    },
    {
      "cell_type": "markdown",
      "metadata": {
        "id": "MosLPteZZWVB"
      },
      "source": [
        "#### Testing on Test Set"
      ]
    },
    {
      "cell_type": "code",
      "metadata": {
        "colab": {
          "base_uri": "https://localhost:8080/"
        },
        "id": "ya79FL3tV8XG",
        "outputId": "582ca2f2-1932-41e4-dbf5-9b25a91c9a24"
      },
      "source": [
        "y_pred = net_c.predict(X_test)\n",
        "y_pred[:5]"
      ],
      "execution_count": 22,
      "outputs": [
        {
          "output_type": "execute_result",
          "data": {
            "text/plain": [
              "array([[5.17416338e-05, 2.29547027e-06, 3.80074962e-05, 9.81483042e-01,\n",
              "        1.34184083e-05, 1.31342765e-02, 1.10851019e-03, 3.10316886e-04,\n",
              "        3.82287754e-03, 3.54553049e-05],\n",
              "       [3.94561619e-01, 1.66540425e-02, 9.99041460e-03, 7.14238442e-04,\n",
              "        8.28689517e-05, 3.22646002e-07, 4.40241944e-04, 1.05742572e-07,\n",
              "        5.65278947e-01, 1.22772884e-02],\n",
              "       [2.58493602e-01, 1.52865678e-01, 1.79675501e-02, 3.46287177e-03,\n",
              "        1.07179862e-03, 4.02264239e-04, 1.23506458e-03, 1.36072049e-02,\n",
              "        4.55757558e-01, 9.51363444e-02],\n",
              "       [9.11924660e-01, 2.26307521e-03, 2.48582312e-03, 3.20818253e-05,\n",
              "        1.42258214e-04, 8.53088977e-07, 6.89982844e-05, 9.17932448e-06,\n",
              "        8.25828910e-02, 4.90028237e-04],\n",
              "       [8.61966676e-09, 1.09096101e-08, 2.29462457e-04, 1.98285154e-04,\n",
              "        1.89416879e-03, 1.35300697e-05, 9.97664452e-01, 7.10657755e-09,\n",
              "        1.28137629e-07, 2.78350654e-09]], dtype=float32)"
            ]
          },
          "metadata": {
            "tags": []
          },
          "execution_count": 22
        }
      ]
    },
    {
      "cell_type": "code",
      "metadata": {
        "colab": {
          "base_uri": "https://localhost:8080/"
        },
        "id": "NUHoUBImV9Dd",
        "outputId": "81826ff7-c0a1-48b3-a061-d47553c5397b"
      },
      "source": [
        "y_classes = [np.argmax(element) for element in y_pred]\n",
        "y_classes[:5]"
      ],
      "execution_count": 23,
      "outputs": [
        {
          "output_type": "execute_result",
          "data": {
            "text/plain": [
              "[3, 8, 8, 0, 6]"
            ]
          },
          "metadata": {
            "tags": []
          },
          "execution_count": 23
        }
      ]
    },
    {
      "cell_type": "code",
      "metadata": {
        "colab": {
          "base_uri": "https://localhost:8080/"
        },
        "id": "UosujZuAWAEF",
        "outputId": "e1f3046c-b058-4a35-ffdd-3af92e24665e"
      },
      "source": [
        "y_test[:5]"
      ],
      "execution_count": 24,
      "outputs": [
        {
          "output_type": "execute_result",
          "data": {
            "text/plain": [
              "array([3, 8, 8, 0, 6], dtype=uint8)"
            ]
          },
          "metadata": {
            "tags": []
          },
          "execution_count": 24
        }
      ]
    },
    {
      "cell_type": "code",
      "metadata": {
        "colab": {
          "base_uri": "https://localhost:8080/",
          "height": 280
        },
        "id": "-_5W1FKSWCr6",
        "outputId": "ca56b24f-d485-4b73-aeab-e8c96bf6c4aa"
      },
      "source": [
        "plot_sample(X_test, y_test,3)"
      ],
      "execution_count": 25,
      "outputs": [
        {
          "output_type": "display_data",
          "data": {
            "image/png": "[encoded data removed]",
            "text/plain": [
              "<Figure size 432x288 with 1 Axes>"
            ]
          },
          "metadata": {
            "tags": [],
            "needs_background": "light"
          }
        }
      ]
    },
    {
      "cell_type": "code",
      "metadata": {
        "colab": {
          "base_uri": "https://localhost:8080/",
          "height": 35
        },
        "id": "vcCD9vKYWEzk",
        "outputId": "12c64b62-a5a3-4200-aad0-e8da250d17d1"
      },
      "source": [
        "classes[y_classes[3]]"
      ],
      "execution_count": 26,
      "outputs": [
        {
          "output_type": "execute_result",
          "data": {
            "application/vnd.google.colaboratory.intrinsic+json": {
              "type": "string"
            },
            "text/plain": [
              "'airplane'"
            ]
          },
          "metadata": {
            "tags": []
          },
          "execution_count": 26
        }
      ]
    },
    {
      "cell_type": "code",
      "metadata": {
        "id": "oZEZPDmtZvlE"
      },
      "source": [
        "nets = [net_a, net_b, net_c]\n",
        "histories = []\n"
      ],
      "execution_count": 27,
      "outputs": []
    },
    {
      "cell_type": "code",
      "metadata": {
        "id": "WU0pJ6ZpoUmV"
      },
      "source": [
        "def plot_history(history):\n",
        "    loss_list = [s for s in history.history.keys() if 'loss' in s and 'val' not in s]\n",
        "    val_loss_list = [s for s in history.history.keys() if 'loss' in s and 'val' in s]\n",
        "    acc_list = [s for s in history.history.keys() if 'acc' in s and 'val' not in s]\n",
        "    val_acc_list = [s for s in history.history.keys() if 'acc' in s and 'val' in s]\n",
        "    \n",
        "    if len(loss_list) == 0:\n",
        "        print('Loss is missing in history')\n",
        "        return \n",
        "    \n",
        "    ## As loss always exists\n",
        "    epochs = range(1,len(history.history[loss_list[0]]) + 1)\n",
        "    \n",
        "    ## Loss\n",
        "    plt.figure(1)\n",
        "    for l in loss_list:\n",
        "        plt.plot(epochs, history.history[l], 'b', label='Training loss (' + str(str(format(history.history[l][-1],'.5f'))+')'))\n",
        "    for l in val_loss_list:\n",
        "        plt.plot(epochs, history.history[l], 'g', label='Validation loss (' + str(str(format(history.history[l][-1],'.5f'))+')'))\n",
        "    \n",
        "    plt.title('Loss')\n",
        "    plt.xlabel('Epochs')\n",
        "    plt.ylabel('Loss')\n",
        "    plt.legend()\n",
        "    \n",
        "    ## Accuracy\n",
        "    plt.figure(2)\n",
        "    for l in acc_list:\n",
        "        plt.plot(epochs, history.history[l], 'b', label='Training accuracy (' + str(format(history.history[l][-1],'.5f'))+')')\n",
        "    for l in val_acc_list:    \n",
        "        plt.plot(epochs, history.history[l], 'g', label='Validation accuracy (' + str(format(history.history[l][-1],'.5f'))+')')\n",
        "\n",
        "    plt.title('Accuracy')\n",
        "    plt.xlabel('Epochs')\n",
        "    plt.ylabel('Accuracy')\n",
        "    plt.legend()\n",
        "    plt.show()"
      ],
      "execution_count": 28,
      "outputs": []
    },
    {
      "cell_type": "code",
      "metadata": {
        "colab": {
          "base_uri": "https://localhost:8080/",
          "height": 573
        },
        "id": "ix6WTXZJtyPy",
        "outputId": "8f71a0ea-d0a2-44db-c90c-3be11b2a02c1"
      },
      "source": [
        "plot_history(history_a)"
      ],
      "execution_count": 29,
      "outputs": [
        {
          "output_type": "display_data",
          "data": {
            "image/png": "[encoded data removed]",
            "text/plain": [
              "<Figure size 432x288 with 1 Axes>"
            ]
          },
          "metadata": {
            "tags": [],
            "needs_background": "light"
          }
        },
        {
          "output_type": "display_data",
          "data": {
            "image/png": "[encoded data removed]",
            "text/plain": [
              "<Figure size 432x288 with 1 Axes>"
            ]
          },
          "metadata": {
            "tags": [],
            "needs_background": "light"
          }
        }
      ]
    },
    {
      "cell_type": "code",
      "metadata": {
        "colab": {
          "base_uri": "https://localhost:8080/",
          "height": 573
        },
        "id": "xyBoDx6y0iUs",
        "outputId": "fafaf26f-c4b2-42cd-ee5e-d9439d1b549b"
      },
      "source": [
        "plot_history(history_b)"
      ],
      "execution_count": 30,
      "outputs": [
        {
          "output_type": "display_data",
          "data": {
            "image/png": "[encoded data removed]",
            "text/plain": [
              "<Figure size 432x288 with 1 Axes>"
            ]
          },
          "metadata": {
            "tags": [],
            "needs_background": "light"
          }
        },
        {
          "output_type": "display_data",
          "data": {
            "image/png": "[encoded data removed]",
            "text/plain": [
              "<Figure size 432x288 with 1 Axes>"
            ]
          },
          "metadata": {
            "tags": [],
            "needs_background": "light"
          }
        }
      ]
    },
    {
      "cell_type": "code",
      "metadata": {
        "colab": {
          "base_uri": "https://localhost:8080/",
          "height": 573
        },
        "id": "VjpUhUrv0kI8",
        "outputId": "4818194d-0b17-4aa7-e9fe-51763c981e07"
      },
      "source": [
        "plot_history(history_c)"
      ],
      "execution_count": 31,
      "outputs": [
        {
          "output_type": "display_data",
          "data": {
            "image/png": "[encoded data removed]",
            "text/plain": [
              "<Figure size 432x288 with 1 Axes>"
            ]
          },
          "metadata": {
            "tags": [],
            "needs_background": "light"
          }
        },
        {
          "output_type": "display_data",
          "data": {
            "image/png": "[encoded data removed]",
            "text/plain": [
              "<Figure size 432x288 with 1 Axes>"
            ]
          },
          "metadata": {
            "tags": [],
            "needs_background": "light"
          }
        }
      ]
    },
    {
      "cell_type": "code",
      "metadata": {
        "id": "dxhNZSw94rXy"
      },
      "source": [
        ""
      ],
      "execution_count": null,
      "outputs": []
    }
  ]
}